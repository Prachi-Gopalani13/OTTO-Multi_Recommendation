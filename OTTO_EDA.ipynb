{
 "cells": [
  {
   "cell_type": "code",
   "execution_count": 10,
   "metadata": {},
   "outputs": [],
   "source": [
    "import pandas as pd\n",
    "import numpy as np\n",
    "from datetime import timedelta\n",
    "from matplotlib import pyplot as plt\n",
    "import seaborn as sns\n",
    "from tqdm import tqdm"
   ]
  },
  {
   "cell_type": "code",
   "execution_count": 11,
   "metadata": {},
   "outputs": [],
   "source": [
    "train_data = pd.read_json(\"train.jsonl\", lines=True, chunksize=100_000)\n",
    "test_data = pd.read_json(\"test.jsonl\", lines=True, chunksize=100_000)"
   ]
  },
  {
   "cell_type": "code",
   "execution_count": 12,
   "metadata": {},
   "outputs": [
    {
     "name": "stdout",
     "output_type": "stream",
     "text": [
      "Train: 12,899,779 lines\n",
      "Test 1,671,803 lines\n"
     ]
    }
   ],
   "source": [
    "#Let's examine number of sessions in train and test\n",
    "\n",
    "with open(\"train.jsonl\", 'r') as f:\n",
    "    print(f\"Train: {len(f.readlines()):,} lines\")\n",
    "with open(\"test.jsonl\", 'r') as f:\n",
    "    print(f\"Test {len(f.readlines()):,} lines\")"
   ]
  },
  {
   "cell_type": "code",
   "execution_count": 13,
   "metadata": {},
   "outputs": [
    {
     "data": {
      "text/html": [
       "<div>\n",
       "<style scoped>\n",
       "    .dataframe tbody tr th:only-of-type {\n",
       "        vertical-align: middle;\n",
       "    }\n",
       "\n",
       "    .dataframe tbody tr th {\n",
       "        vertical-align: top;\n",
       "    }\n",
       "\n",
       "    .dataframe thead th {\n",
       "        text-align: right;\n",
       "    }\n",
       "</style>\n",
       "<table border=\"1\" class=\"dataframe\">\n",
       "  <thead>\n",
       "    <tr style=\"text-align: right;\">\n",
       "      <th></th>\n",
       "      <th>session</th>\n",
       "      <th>events</th>\n",
       "    </tr>\n",
       "  </thead>\n",
       "  <tbody>\n",
       "    <tr>\n",
       "      <th>0</th>\n",
       "      <td>0</td>\n",
       "      <td>[{'aid': 1517085, 'ts': 1659304800025, 'type':...</td>\n",
       "    </tr>\n",
       "    <tr>\n",
       "      <th>1</th>\n",
       "      <td>1</td>\n",
       "      <td>[{'aid': 424964, 'ts': 1659304800025, 'type': ...</td>\n",
       "    </tr>\n",
       "    <tr>\n",
       "      <th>2</th>\n",
       "      <td>2</td>\n",
       "      <td>[{'aid': 763743, 'ts': 1659304800038, 'type': ...</td>\n",
       "    </tr>\n",
       "    <tr>\n",
       "      <th>3</th>\n",
       "      <td>3</td>\n",
       "      <td>[{'aid': 1425967, 'ts': 1659304800095, 'type':...</td>\n",
       "    </tr>\n",
       "    <tr>\n",
       "      <th>4</th>\n",
       "      <td>4</td>\n",
       "      <td>[{'aid': 613619, 'ts': 1659304800119, 'type': ...</td>\n",
       "    </tr>\n",
       "    <tr>\n",
       "      <th>...</th>\n",
       "      <td>...</td>\n",
       "      <td>...</td>\n",
       "    </tr>\n",
       "    <tr>\n",
       "      <th>99995</th>\n",
       "      <td>99995</td>\n",
       "      <td>[{'aid': 1387489, 'ts': 1659326711310, 'type':...</td>\n",
       "    </tr>\n",
       "    <tr>\n",
       "      <th>99996</th>\n",
       "      <td>99996</td>\n",
       "      <td>[{'aid': 1091948, 'ts': 1659326711396, 'type':...</td>\n",
       "    </tr>\n",
       "    <tr>\n",
       "      <th>99997</th>\n",
       "      <td>99997</td>\n",
       "      <td>[{'aid': 366639, 'ts': 1659326711431, 'type': ...</td>\n",
       "    </tr>\n",
       "    <tr>\n",
       "      <th>99998</th>\n",
       "      <td>99998</td>\n",
       "      <td>[{'aid': 845181, 'ts': 1659326711611, 'type': ...</td>\n",
       "    </tr>\n",
       "    <tr>\n",
       "      <th>99999</th>\n",
       "      <td>99999</td>\n",
       "      <td>[{'aid': 601639, 'ts': 1659326711757, 'type': ...</td>\n",
       "    </tr>\n",
       "  </tbody>\n",
       "</table>\n",
       "<p>100000 rows × 2 columns</p>\n",
       "</div>"
      ],
      "text/plain": [
       "       session                                             events\n",
       "0            0  [{'aid': 1517085, 'ts': 1659304800025, 'type':...\n",
       "1            1  [{'aid': 424964, 'ts': 1659304800025, 'type': ...\n",
       "2            2  [{'aid': 763743, 'ts': 1659304800038, 'type': ...\n",
       "3            3  [{'aid': 1425967, 'ts': 1659304800095, 'type':...\n",
       "4            4  [{'aid': 613619, 'ts': 1659304800119, 'type': ...\n",
       "...        ...                                                ...\n",
       "99995    99995  [{'aid': 1387489, 'ts': 1659326711310, 'type':...\n",
       "99996    99996  [{'aid': 1091948, 'ts': 1659326711396, 'type':...\n",
       "99997    99997  [{'aid': 366639, 'ts': 1659326711431, 'type': ...\n",
       "99998    99998  [{'aid': 845181, 'ts': 1659326711611, 'type': ...\n",
       "99999    99999  [{'aid': 601639, 'ts': 1659326711757, 'type': ...\n",
       "\n",
       "[100000 rows x 2 columns]"
      ]
     },
     "execution_count": 13,
     "metadata": {},
     "output_type": "execute_result"
    }
   ],
   "source": [
    "#As it expected, dataset is realy big. So let's load the first chunk of data to examine structure of the datset\n",
    "\n",
    "train_data_chunk = train_data.__next__()\n",
    "train_data_chunk"
   ]
  },
  {
   "cell_type": "code",
   "execution_count": 17,
   "metadata": {},
   "outputs": [
    {
     "data": {
      "text/html": [
       "<div>\n",
       "<style scoped>\n",
       "    .dataframe tbody tr th:only-of-type {\n",
       "        vertical-align: middle;\n",
       "    }\n",
       "\n",
       "    .dataframe tbody tr th {\n",
       "        vertical-align: top;\n",
       "    }\n",
       "\n",
       "    .dataframe thead th {\n",
       "        text-align: right;\n",
       "    }\n",
       "</style>\n",
       "<table border=\"1\" class=\"dataframe\">\n",
       "  <thead>\n",
       "    <tr style=\"text-align: right;\">\n",
       "      <th></th>\n",
       "      <th>session</th>\n",
       "      <th>aid</th>\n",
       "      <th>ts</th>\n",
       "      <th>type</th>\n",
       "    </tr>\n",
       "  </thead>\n",
       "  <tbody>\n",
       "    <tr>\n",
       "      <th>0</th>\n",
       "      <td>0</td>\n",
       "      <td>1517085</td>\n",
       "      <td>1659304800025</td>\n",
       "      <td>clicks</td>\n",
       "    </tr>\n",
       "    <tr>\n",
       "      <th>1</th>\n",
       "      <td>0</td>\n",
       "      <td>1563459</td>\n",
       "      <td>1659304904511</td>\n",
       "      <td>clicks</td>\n",
       "    </tr>\n",
       "    <tr>\n",
       "      <th>2</th>\n",
       "      <td>0</td>\n",
       "      <td>1309446</td>\n",
       "      <td>1659367439426</td>\n",
       "      <td>clicks</td>\n",
       "    </tr>\n",
       "    <tr>\n",
       "      <th>3</th>\n",
       "      <td>0</td>\n",
       "      <td>16246</td>\n",
       "      <td>1659367719997</td>\n",
       "      <td>clicks</td>\n",
       "    </tr>\n",
       "    <tr>\n",
       "      <th>4</th>\n",
       "      <td>0</td>\n",
       "      <td>1781822</td>\n",
       "      <td>1659367871344</td>\n",
       "      <td>clicks</td>\n",
       "    </tr>\n",
       "    <tr>\n",
       "      <th>...</th>\n",
       "      <td>...</td>\n",
       "      <td>...</td>\n",
       "      <td>...</td>\n",
       "      <td>...</td>\n",
       "    </tr>\n",
       "    <tr>\n",
       "      <th>5227648</th>\n",
       "      <td>99999</td>\n",
       "      <td>1544954</td>\n",
       "      <td>1660373630318</td>\n",
       "      <td>clicks</td>\n",
       "    </tr>\n",
       "    <tr>\n",
       "      <th>5227649</th>\n",
       "      <td>99999</td>\n",
       "      <td>1032408</td>\n",
       "      <td>1660373656430</td>\n",
       "      <td>clicks</td>\n",
       "    </tr>\n",
       "    <tr>\n",
       "      <th>5227650</th>\n",
       "      <td>99999</td>\n",
       "      <td>1544954</td>\n",
       "      <td>1660373678083</td>\n",
       "      <td>clicks</td>\n",
       "    </tr>\n",
       "    <tr>\n",
       "      <th>5227651</th>\n",
       "      <td>99999</td>\n",
       "      <td>554230</td>\n",
       "      <td>1660373715477</td>\n",
       "      <td>clicks</td>\n",
       "    </tr>\n",
       "    <tr>\n",
       "      <th>5227652</th>\n",
       "      <td>99999</td>\n",
       "      <td>1544954</td>\n",
       "      <td>1660373725829</td>\n",
       "      <td>clicks</td>\n",
       "    </tr>\n",
       "  </tbody>\n",
       "</table>\n",
       "<p>5227653 rows × 4 columns</p>\n",
       "</div>"
      ],
      "text/plain": [
       "         session      aid             ts    type\n",
       "0              0  1517085  1659304800025  clicks\n",
       "1              0  1563459  1659304904511  clicks\n",
       "2              0  1309446  1659367439426  clicks\n",
       "3              0    16246  1659367719997  clicks\n",
       "4              0  1781822  1659367871344  clicks\n",
       "...          ...      ...            ...     ...\n",
       "5227648    99999  1544954  1660373630318  clicks\n",
       "5227649    99999  1032408  1660373656430  clicks\n",
       "5227650    99999  1544954  1660373678083  clicks\n",
       "5227651    99999   554230  1660373715477  clicks\n",
       "5227652    99999  1544954  1660373725829  clicks\n",
       "\n",
       "[5227653 rows x 4 columns]"
      ]
     },
     "execution_count": 17,
     "metadata": {},
     "output_type": "execute_result"
    }
   ],
   "source": [
    "#Now we may transform dataset to csv format\n",
    "\n",
    "events_dict = {\n",
    "    \"session\": [],\n",
    "    \"aid\": [],\n",
    "    \"ts\": [],\n",
    "    \"type\": [],\n",
    "}\n",
    "\n",
    "for _, row in train_data_chunk.iterrows():\n",
    "    for event in row[\"events\"]:\n",
    "        events_dict[\"session\"].append(row[\"session\"])\n",
    "        events_dict[\"aid\"].append(event[\"aid\"])\n",
    "        events_dict[\"ts\"].append(event[\"ts\"])\n",
    "        events_dict[\"type\"].append(event[\"type\"])\n",
    "\n",
    "train_part = pd.DataFrame(events_dict)\n",
    "train_part"
   ]
  },
  {
   "cell_type": "code",
   "execution_count": 22,
   "metadata": {},
   "outputs": [
    {
     "name": "stdout",
     "output_type": "stream",
     "text": [
      "Number of sessions: 100000\n",
      "Number of events: \n",
      "clicks    4770172\n",
      "carts      364579\n",
      "orders      92902\n",
      "Name: type, dtype: int64\n",
      ": 5227653\n"
     ]
    }
   ],
   "source": [
    "n_sessions = train_part[\"session\"].nunique()\n",
    "n_events = train_part[\"type\"].value_counts()\n",
    "\n",
    "print(f\"Number of sessions: {n_sessions}\")\n",
    "print(f\"Number of events: \\n{n_events}\")\n",
    "\n"
   ]
  },
  {
   "cell_type": "code",
   "execution_count": 24,
   "metadata": {},
   "outputs": [
    {
     "data": {
      "text/plain": [
       "Text(0, 0.5, 'Count')"
      ]
     },
     "execution_count": 24,
     "metadata": {},
     "output_type": "execute_result"
    },
    {
     "data": {
      "image/png": "[encoded data removed]",
      "text/plain": [
       "<Figure size 432x288 with 1 Axes>"
      ]
     },
     "metadata": {
      "needs_background": "light"
     },
     "output_type": "display_data"
    }
   ],
   "source": [
    "n_events.plot(kind=\"bar\",title = \"TEST\")\n",
    "plt.title(\"Action Frequency\")\n",
    "plt.xlabel(\"Category\")\n",
    "plt.ylabel(\"Count\")"
   ]
  },
  {
   "cell_type": "code",
   "execution_count": 31,
   "metadata": {},
   "outputs": [],
   "source": [
    "def count_minute(x):\n",
    "    max_value = int(x.max())\n",
    "    min_value = int(x.min())\n",
    "    session_time = timedelta(microseconds=max_value - min_value)\n",
    "    return session_time.total_seconds() / 60 "
   ]
  },
  {
   "cell_type": "code",
   "execution_count": 32,
   "metadata": {},
   "outputs": [],
   "source": [
    "time_counts = train_part.groupby(['session'])['ts'].apply(count_minute)"
   ]
  },
  {
   "cell_type": "code",
   "execution_count": 39,
   "metadata": {},
   "outputs": [
    {
     "data": {
      "image/png": "[encoded data removed]",
      "text/plain": [
       "<Figure size 504x360 with 1 Axes>"
      ]
     },
     "metadata": {
      "needs_background": "light"
     },
     "output_type": "display_data"
    }
   ],
   "source": [
    "fig, ax = plt.subplots(figsize=(7, 5))\n",
    "sns.distplot(time_counts.values, ax=ax, bins=30, kde=False)\n",
    "ax.set_title('Length of each session', fontsize=12)\n",
    "ax.set_ylabel('Frequency', fontsize=12)\n",
    "ax.set_xlabel('Minutes', fontsize=12)\n",
    "plt.show()"
   ]
  },
  {
   "cell_type": "code",
   "execution_count": null,
   "metadata": {},
   "outputs": [],
   "source": [
    "# Orders with Longer sessions "
   ]
  },
  {
   "cell_type": "code",
   "execution_count": 44,
   "metadata": {},
   "outputs": [],
   "source": [
    "session_counts = train_part.groupby(['session']).count()\n",
    "order_in_session = train_part.groupby(['session']).apply(lambda x: x['type'].eq(\"orders\").any())"
   ]
  },
  {
   "cell_type": "code",
   "execution_count": 48,
   "metadata": {},
   "outputs": [
    {
     "data": {
      "text/plain": [
       "session\n",
       "0     True\n",
       "1    False\n",
       "2    False\n",
       "3     True\n",
       "4     True\n",
       "dtype: bool"
      ]
     },
     "execution_count": 48,
     "metadata": {},
     "output_type": "execute_result"
    }
   ],
   "source": [
    "order_in_session.head()"
   ]
  },
  {
   "cell_type": "code",
   "execution_count": 47,
   "metadata": {},
   "outputs": [
    {
     "data": {
      "text/html": [
       "<div>\n",
       "<style scoped>\n",
       "    .dataframe tbody tr th:only-of-type {\n",
       "        vertical-align: middle;\n",
       "    }\n",
       "\n",
       "    .dataframe tbody tr th {\n",
       "        vertical-align: top;\n",
       "    }\n",
       "\n",
       "    .dataframe thead th {\n",
       "        text-align: right;\n",
       "    }\n",
       "</style>\n",
       "<table border=\"1\" class=\"dataframe\">\n",
       "  <thead>\n",
       "    <tr style=\"text-align: right;\">\n",
       "      <th></th>\n",
       "      <th>aid</th>\n",
       "      <th>ts</th>\n",
       "      <th>0</th>\n",
       "    </tr>\n",
       "    <tr>\n",
       "      <th>session</th>\n",
       "      <th></th>\n",
       "      <th></th>\n",
       "      <th></th>\n",
       "    </tr>\n",
       "  </thead>\n",
       "  <tbody>\n",
       "    <tr>\n",
       "      <th>0</th>\n",
       "      <td>276</td>\n",
       "      <td>39.669728</td>\n",
       "      <td>True</td>\n",
       "    </tr>\n",
       "    <tr>\n",
       "      <th>1</th>\n",
       "      <td>32</td>\n",
       "      <td>40.167583</td>\n",
       "      <td>False</td>\n",
       "    </tr>\n",
       "    <tr>\n",
       "      <th>2</th>\n",
       "      <td>33</td>\n",
       "      <td>40.156927</td>\n",
       "      <td>False</td>\n",
       "    </tr>\n",
       "    <tr>\n",
       "      <th>3</th>\n",
       "      <td>226</td>\n",
       "      <td>30.081111</td>\n",
       "      <td>True</td>\n",
       "    </tr>\n",
       "    <tr>\n",
       "      <th>4</th>\n",
       "      <td>19</td>\n",
       "      <td>38.031353</td>\n",
       "      <td>True</td>\n",
       "    </tr>\n",
       "    <tr>\n",
       "      <th>...</th>\n",
       "      <td>...</td>\n",
       "      <td>...</td>\n",
       "      <td>...</td>\n",
       "    </tr>\n",
       "    <tr>\n",
       "      <th>99995</th>\n",
       "      <td>21</td>\n",
       "      <td>29.051198</td>\n",
       "      <td>False</td>\n",
       "    </tr>\n",
       "    <tr>\n",
       "      <th>99996</th>\n",
       "      <td>302</td>\n",
       "      <td>38.349066</td>\n",
       "      <td>True</td>\n",
       "    </tr>\n",
       "    <tr>\n",
       "      <th>99997</th>\n",
       "      <td>112</td>\n",
       "      <td>39.466346</td>\n",
       "      <td>True</td>\n",
       "    </tr>\n",
       "    <tr>\n",
       "      <th>99998</th>\n",
       "      <td>3</td>\n",
       "      <td>4.502911</td>\n",
       "      <td>False</td>\n",
       "    </tr>\n",
       "    <tr>\n",
       "      <th>99999</th>\n",
       "      <td>18</td>\n",
       "      <td>17.450235</td>\n",
       "      <td>False</td>\n",
       "    </tr>\n",
       "  </tbody>\n",
       "</table>\n",
       "<p>100000 rows × 3 columns</p>\n",
       "</div>"
      ],
      "text/plain": [
       "         aid         ts      0\n",
       "session                       \n",
       "0        276  39.669728   True\n",
       "1         32  40.167583  False\n",
       "2         33  40.156927  False\n",
       "3        226  30.081111   True\n",
       "4         19  38.031353   True\n",
       "...      ...        ...    ...\n",
       "99995     21  29.051198  False\n",
       "99996    302  38.349066   True\n",
       "99997    112  39.466346   True\n",
       "99998      3   4.502911  False\n",
       "99999     18  17.450235  False\n",
       "\n",
       "[100000 rows x 3 columns]"
      ]
     },
     "execution_count": 47,
     "metadata": {},
     "output_type": "execute_result"
    }
   ],
   "source": [
    "combined_data = pd.concat([session_counts[\"aid\"], time_counts, order_in_session], axis=1)\n",
    "combined_data"
   ]
  },
  {
   "cell_type": "code",
   "execution_count": 50,
   "metadata": {},
   "outputs": [
    {
     "name": "stdout",
     "output_type": "stream",
     "text": [
      "Mean time spend by users who order: 32.69724419896134\n",
      "Mean time spend by users who didn't order: 21.352928021914465\n"
     ]
    }
   ],
   "source": [
    "print(f\"Mean time spend by users who order: {combined_data.loc[combined_data[0] == True]['ts'].mean()}\")\n",
    "print(f\"Mean time spend by users who didn't order: {combined_data.loc[combined_data[0] == False]['ts'].mean()}\")"
   ]
  },
  {
   "cell_type": "code",
   "execution_count": 51,
   "metadata": {},
   "outputs": [
    {
     "name": "stdout",
     "output_type": "stream",
     "text": [
      "Mean time spend by users who order: 120.8487965175828\n",
      "Mean time spend by users who didn't order: 31.291453348657402\n"
     ]
    }
   ],
   "source": [
    "print(f\"Mean time spend by users who order: {combined_data.loc[combined_data[0] == True]['aid'].mean()}\")\n",
    "print(f\"Mean time spend by users who didn't order: {combined_data.loc[combined_data[0] == False]['aid'].mean()}\")"
   ]
  },
  {
   "cell_type": "code",
   "execution_count": null,
   "metadata": {},
   "outputs": [],
   "source": []
  },
  {
   "cell_type": "code",
   "execution_count": null,
   "metadata": {},
   "outputs": [],
   "source": [
    "print(\"Maximum Purchased item with Product Code: \\n\",train['product_code'].value_counts().head(5))"
   ]
  },
  {
   "cell_type": "markdown",
   "metadata": {},
   "source": [
    "### Most Clicked Product"
   ]
  },
  {
   "cell_type": "code",
   "execution_count": null,
   "metadata": {},
   "outputs": [],
   "source": [
    "event_click = train[train[\"event_type\"]== \"clicks\"].sort_values(\"product_code\",ascending= False)\n",
    "least_pro= event_click.tail(5)\n",
    "print(\"Top 5 most Clicked item: \\n\",event_click[\"product_code\"].value_counts().head(5))"
   ]
  },
  {
   "cell_type": "markdown",
   "metadata": {},
   "source": [
    "### Most ordered item"
   ]
  },
  {
   "cell_type": "code",
   "execution_count": null,
   "metadata": {},
   "outputs": [],
   "source": [
    "event_order = train[train[\"event_type\"]== \"orders\"].sort_values(\"product_code\",ascending= False)\n",
    "print(\"Top 5 most ordered item: \\n\",event_order[\"product_code\"].value_counts().head(5))"
   ]
  },
  {
   "cell_type": "code",
   "execution_count": null,
   "metadata": {},
   "outputs": [],
   "source": [
    "plt.figure(figsize=(10, 5))\n",
    "sns.distplot(cust_group['product_code'], kde=False, bins=100)\n",
    "plt.title('Distribution of number of products viewed by customer')\n",
    "plt.xlabel('Number of products viewed')\n",
    "plt.ylabel('Number of customers')\n",
    "plt.show()\n"
   ]
  },
  {
   "cell_type": "code",
   "execution_count": null,
   "metadata": {},
   "outputs": [],
   "source": [
    "## Product ordered < 50 \n",
    "grouped_train_orders = test[test['event_type'] == 'orders'].groupby('customer_id').count().join(grouped_train, lsuffix='_orders', rsuffix='_views') \n",
    "display(grouped_train_orders)\n"
   ]
  },
  {
   "cell_type": "code",
   "execution_count": null,
   "metadata": {},
   "outputs": [],
   "source": [
    "grouped_train = test.groupby(['product_code']).count()\n",
    "display(grouped_train)"
   ]
  },
  {
   "cell_type": "code",
   "execution_count": null,
   "metadata": {},
   "outputs": [],
   "source": []
  },
  {
   "cell_type": "code",
   "execution_count": null,
   "metadata": {},
   "outputs": [],
   "source": []
  }
 ],
 "metadata": {
  "hide_input": false,
  "kernelspec": {
   "display_name": "Environment (conda_venv_prachi)",
   "language": "python",
   "name": "conda_venv_prachi"
  },
  "language_info": {
   "codemirror_mode": {
    "name": "ipython",
    "version": 3
   },
   "file_extension": ".py",
   "mimetype": "text/x-python",
   "name": "python",
   "nbconvert_exporter": "python",
   "pygments_lexer": "ipython3",
   "version": "3.6.10"
  },
  "toc": {
   "base_numbering": 1,
   "nav_menu": {},
   "number_sections": true,
   "sideBar": true,
   "skip_h1_title": false,
   "title_cell": "Table of Contents",
   "title_sidebar": "Contents",
   "toc_cell": false,
   "toc_position": {},
   "toc_section_display": true,
   "toc_window_display": false
  }
 },
 "nbformat": 4,
 "nbformat_minor": 2
}
